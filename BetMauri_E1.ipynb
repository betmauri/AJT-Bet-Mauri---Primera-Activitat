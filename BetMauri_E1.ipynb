{
 "cells": [
  {
   "cell_type": "markdown",
   "id": "29bf2f5d",
   "metadata": {},
   "source": [
    "Exercisi 1: Enters"
   ]
  },
  {
   "cell_type": "code",
   "execution_count": null,
   "id": "3c7b0ceb",
   "metadata": {},
   "outputs": [],
   "source": [
    "#1\n",
    "preu_entrada =8.35\n",
    "nombre_entrades = 1\n",
    "cost_total=preu_entrada*nombre_entrades"
   ]
  },
  {
   "cell_type": "code",
   "execution_count": 9,
   "id": "422dd699",
   "metadata": {},
   "outputs": [
    {
     "name": "stdout",
     "output_type": "stream",
     "text": [
      "8.35\n"
     ]
    }
   ],
   "source": [
    "print(cost_total)"
   ]
  },
  {
   "cell_type": "code",
   "execution_count": 13,
   "id": "4e30fcf5",
   "metadata": {},
   "outputs": [
    {
     "name": "stdout",
     "output_type": "stream",
     "text": [
      "41.75\n"
     ]
    }
   ],
   "source": [
    "nombre_entrades = 5\n",
    "cost_total=preu_entrada*nombre_entrades\n",
    "print(cost_total)"
   ]
  },
  {
   "cell_type": "code",
   "execution_count": 12,
   "id": "2a82b3a4",
   "metadata": {},
   "outputs": [
    {
     "name": "stdout",
     "output_type": "stream",
     "text": [
      "2955.9\n"
     ]
    }
   ],
   "source": [
    "nombre_entrades=354\n",
    "cost_total=preu_entrada*nombre_entrades\n",
    "print(cost_total)"
   ]
  },
  {
   "cell_type": "code",
   "execution_count": 16,
   "id": "7ccfeba4",
   "metadata": {},
   "outputs": [
    {
     "name": "stdout",
     "output_type": "stream",
     "text": [
      "54.108000000000004\n"
     ]
    }
   ],
   "source": [
    "#2\n",
    "nombre_entrades = 10\n",
    "nombre_entrades_retornades = 4\n",
    "percentatge = 88/100\n",
    "preu_entrades = 8.35\n",
    "cost_final = nombre_entrades*preu_entrades - (nombre_entrades_retornades*preu_entrada*percentatge)\n",
    "print(cost_final)"
   ]
  },
  {
   "cell_type": "markdown",
   "id": "b10921eb",
   "metadata": {},
   "source": [
    "Exercisi 2"
   ]
  },
  {
   "cell_type": "code",
   "execution_count": 20,
   "id": "624f1c11",
   "metadata": {},
   "outputs": [
    {
     "name": "stdout",
     "output_type": "stream",
     "text": [
      "58.51985059900009\n"
     ]
    }
   ],
   "source": [
    "P = 1000\n",
    "I_0 = 10\n",
    "R = 0.01\n",
    "t = 5\n",
    "I_t = I_0 + (P - I_0)*(1-(1-R)**t)\n",
    "print(I_t)"
   ]
  },
  {
   "cell_type": "markdown",
   "id": "98f1ff4b",
   "metadata": {},
   "source": [
    "Exercisi 3"
   ]
  },
  {
   "cell_type": "code",
   "execution_count": 21,
   "id": "6b70d8df",
   "metadata": {},
   "outputs": [],
   "source": [
    "import math"
   ]
  },
  {
   "cell_type": "code",
   "execution_count": 22,
   "id": "d392a38f",
   "metadata": {},
   "outputs": [
    {
     "data": {
      "text/plain": [
       "3.141592653589793"
      ]
     },
     "execution_count": 22,
     "metadata": {},
     "output_type": "execute_result"
    }
   ],
   "source": [
    "math.pi"
   ]
  },
  {
   "cell_type": "code",
   "execution_count": 36,
   "id": "f09959bd",
   "metadata": {},
   "outputs": [
    {
     "name": "stdout",
     "output_type": "stream",
     "text": [
      "Pel radi 1, el perímetre és 6.28 m, l'àrea és 3.14 m2, i el volum és 4.19 m3\n"
     ]
    }
   ],
   "source": [
    "r = 1\n",
    "P = 2*(math.pi*r)\n",
    "A = math.pi*(r**2) \n",
    "V = (4/3)*math.pi*(r**3)\n",
    "P = round(P,2)\n",
    "A = round(A,2)\n",
    "V = round(V,2)\n",
    "print(f\"Pel radi {r}, el perímetre és {P} m, l'àrea és {A} m2, i el volum és {V} m3\")\n"
   ]
  },
  {
   "cell_type": "code",
   "execution_count": 37,
   "id": "5cb5ae01",
   "metadata": {},
   "outputs": [
    {
     "name": "stdout",
     "output_type": "stream",
     "text": [
      "Pel radi 2, el perímetre és 12.57 m, l'àrea és 12.57 m2, i el volum és 33.51 m3\n"
     ]
    }
   ],
   "source": [
    "r = 2\n",
    "P = 2*(math.pi*r)\n",
    "A = math.pi*(r**2) \n",
    "V = (4/3)*math.pi*(r**3)\n",
    "P = round(P,2)\n",
    "A = round(A,2)\n",
    "V = round(V,2)\n",
    "print(f\"Pel radi {r}, el perímetre és {P} m, l'àrea és {A} m2, i el volum és {V} m3\")\n"
   ]
  },
  {
   "cell_type": "markdown",
   "id": "e9d38f9a",
   "metadata": {},
   "source": [
    "Exercisi 4"
   ]
  },
  {
   "cell_type": "code",
   "execution_count": 34,
   "id": "c656b6eb",
   "metadata": {},
   "outputs": [
    {
     "data": {
      "text/plain": [
       "'Bet Mauri Parpal'"
      ]
     },
     "execution_count": 34,
     "metadata": {},
     "output_type": "execute_result"
    }
   ],
   "source": [
    "nom = \"Bet Mauri Parpal\"\n",
    "nom"
   ]
  },
  {
   "cell_type": "code",
   "execution_count": 41,
   "id": "9778b5a7",
   "metadata": {},
   "outputs": [
    {
     "name": "stdout",
     "output_type": "stream",
     "text": [
      "Hola, el meu nom és Bet_Mauri_Parpal\n",
      " La primera lletra del meu nom és B\n",
      " L'última lletra del meu nom és l\n",
      " els tres caràcters entre la posició 2 i la posició 5 són: t_M\n",
      " El meu nom, amb espais té 16\n",
      " El meu nom en majúscules es veu així: BET_MAURI_PARPAL\n",
      " El meu nom en minúscules es veu així: bet_mauri_parpal\n"
     ]
    }
   ],
   "source": [
    "nom = \"Bet_Mauri_Parpal\"\n",
    "primera_lletra = nom[0]\n",
    "ultima_lletra = nom[-1]\n",
    "tres_lletres = nom[2:5]\n",
    "nom_M = nom.upper()\n",
    "nom_m = nom.lower()\n",
    "llargada_nom = len(nom)\n",
    "print(f\"Hola, el meu nom és {nom}\\n La primera lletra del meu nom és {primera_lletra}\\n L'última lletra del meu nom és {ultima_lletra}\\n els tres caràcters entre la posició 2 i la posició 5 són: {tres_lletres}\\n El meu nom, amb espais té {llargada_nom}\\n El meu nom en majúscules es veu així: {nom_M}\\n El meu nom en minúscules es veu així: {nom_m}\")"
   ]
  }
 ],
 "metadata": {
  "kernelspec": {
   "display_name": ".venv (3.13.7)",
   "language": "python",
   "name": "python3"
  },
  "language_info": {
   "codemirror_mode": {
    "name": "ipython",
    "version": 3
   },
   "file_extension": ".py",
   "mimetype": "text/x-python",
   "name": "python",
   "nbconvert_exporter": "python",
   "pygments_lexer": "ipython3",
   "version": "3.13.7"
  }
 },
 "nbformat": 4,
 "nbformat_minor": 5
}
